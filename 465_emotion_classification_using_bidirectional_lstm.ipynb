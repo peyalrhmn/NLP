{
  "metadata": {
    "kernelspec": {
      "language": "python",
      "display_name": "Python 3",
      "name": "python3"
    },
    "language_info": {
      "pygments_lexer": "ipython3",
      "nbconvert_exporter": "python",
      "version": "3.6.4",
      "file_extension": ".py",
      "codemirror_mode": {
        "name": "ipython",
        "version": 3
      },
      "name": "python",
      "mimetype": "text/x-python"
    },
    "colab": {
      "name": "465-emotion-classification-using-bidirectional-lstm.ipynb",
      "provenance": [],
      "collapsed_sections": []
    }
  },
  "nbformat_minor": 0,
  "nbformat": 4,
  "cells": [
    {
      "cell_type": "markdown",
      "source": [
        "## Import Necessary Libraries"
      ],
      "metadata": {
        "id": "SfwEUAWA3HAb"
      }
    },
    {
      "cell_type": "code",
      "source": [
        "import numpy as np\n",
        "import keras\n",
        "from  keras.preprocessing.text import Tokenizer\n",
        "from keras.preprocessing.sequence import pad_sequences\n",
        "import os\n",
        "import pandas as pd\n",
        "from tensorflow.keras.utils import to_categorical\n",
        "import matplotlib.pyplot as plt\n",
        "from sklearn.metrics import classification_report\n",
        "import scikitplot\n",
        "from scikitplot.metrics import plot_confusion_matrix"
      ],
      "metadata": {
        "id": "G7rHKL0KNteY",
        "trusted": true
      },
      "execution_count": 4,
      "outputs": []
    },
    {
      "cell_type": "markdown",
      "source": [
        "# Create a Dataframe for reading and analysing the text files easily"
      ],
      "metadata": {
        "id": "r1dtvdVm3Wqq"
      }
    },
    {
      "cell_type": "code",
      "source": [
        "df_train = pd.read_csv(io.BytesIO(uploaded_train['train.txt']), header =None, sep =';', names = ['Input','Sentiment'], encoding='utf-8')\n",
        "df_test = pd.read_csv(io.BytesIO(uploaded_test['test.txt']), header = None, sep =';', names = ['Input','Sentiment'],encoding='utf-8')\n",
        "df_val=pd.read_csv(io.BytesIO(uploaded_val['val.txt']), header=None,sep=';',names=['Input','Sentiment'],encoding='utf-8')"
      ],
      "metadata": {
        "id": "uVI0V45VPqkH",
        "trusted": true
      },
      "execution_count": 6,
      "outputs": []
    },
    {
      "cell_type": "code",
      "source": [
        "df_train.Sentiment.value_counts()"
      ],
      "metadata": {
        "id": "t5UXwqnoOkGV",
        "outputId": "8f4b061b-dbf3-4925-dea4-8f55256381b9",
        "trusted": true,
        "colab": {
          "base_uri": "https://localhost:8080/"
        }
      },
      "execution_count": 7,
      "outputs": [
        {
          "output_type": "execute_result",
          "data": {
            "text/plain": [
              "joy         5362\n",
              "sadness     4666\n",
              "anger       2159\n",
              "fear        1937\n",
              "love        1304\n",
              "surprise     572\n",
              "Name: Sentiment, dtype: int64"
            ]
          },
          "metadata": {},
          "execution_count": 7
        }
      ]
    },
    {
      "cell_type": "markdown",
      "source": [
        "## Reading the Train and Validation Data"
      ],
      "metadata": {
        "id": "weLVgoak3lR0"
      }
    },
    {
      "cell_type": "code",
      "source": [
        "X=df_train['Input']\n"
      ],
      "metadata": {
        "id": "8jfpnq0qPEUF",
        "trusted": true
      },
      "execution_count": 8,
      "outputs": []
    },
    {
      "cell_type": "code",
      "source": [
        "lst=[]\n",
        "for i in X:\n",
        "  lst.append(len(i))\n"
      ],
      "metadata": {
        "id": "YsdBhABuRkc2",
        "trusted": true
      },
      "execution_count": 9,
      "outputs": []
    },
    {
      "cell_type": "code",
      "source": [
        "len1=pd.DataFrame(lst)\n",
        "len1.describe()"
      ],
      "metadata": {
        "id": "Lf_wMk5wR7Wd",
        "outputId": "90611aa9-f141-49b1-cc7b-845852c7200a",
        "trusted": true,
        "colab": {
          "base_uri": "https://localhost:8080/",
          "height": 300
        }
      },
      "execution_count": 10,
      "outputs": [
        {
          "output_type": "execute_result",
          "data": {
            "text/plain": [
              "                  0\n",
              "count  16000.000000\n",
              "mean      96.845812\n",
              "std       55.904953\n",
              "min        7.000000\n",
              "25%       53.000000\n",
              "50%       86.000000\n",
              "75%      129.000000\n",
              "max      300.000000"
            ],
            "text/html": [
              "\n",
              "  <div id=\"df-5b4b638b-0699-49f6-8e05-5864bc0a05a3\">\n",
              "    <div class=\"colab-df-container\">\n",
              "      <div>\n",
              "<style scoped>\n",
              "    .dataframe tbody tr th:only-of-type {\n",
              "        vertical-align: middle;\n",
              "    }\n",
              "\n",
              "    .dataframe tbody tr th {\n",
              "        vertical-align: top;\n",
              "    }\n",
              "\n",
              "    .dataframe thead th {\n",
              "        text-align: right;\n",
              "    }\n",
              "</style>\n",
              "<table border=\"1\" class=\"dataframe\">\n",
              "  <thead>\n",
              "    <tr style=\"text-align: right;\">\n",
              "      <th></th>\n",
              "      <th>0</th>\n",
              "    </tr>\n",
              "  </thead>\n",
              "  <tbody>\n",
              "    <tr>\n",
              "      <th>count</th>\n",
              "      <td>16000.000000</td>\n",
              "    </tr>\n",
              "    <tr>\n",
              "      <th>mean</th>\n",
              "      <td>96.845812</td>\n",
              "    </tr>\n",
              "    <tr>\n",
              "      <th>std</th>\n",
              "      <td>55.904953</td>\n",
              "    </tr>\n",
              "    <tr>\n",
              "      <th>min</th>\n",
              "      <td>7.000000</td>\n",
              "    </tr>\n",
              "    <tr>\n",
              "      <th>25%</th>\n",
              "      <td>53.000000</td>\n",
              "    </tr>\n",
              "    <tr>\n",
              "      <th>50%</th>\n",
              "      <td>86.000000</td>\n",
              "    </tr>\n",
              "    <tr>\n",
              "      <th>75%</th>\n",
              "      <td>129.000000</td>\n",
              "    </tr>\n",
              "    <tr>\n",
              "      <th>max</th>\n",
              "      <td>300.000000</td>\n",
              "    </tr>\n",
              "  </tbody>\n",
              "</table>\n",
              "</div>\n",
              "      <button class=\"colab-df-convert\" onclick=\"convertToInteractive('df-5b4b638b-0699-49f6-8e05-5864bc0a05a3')\"\n",
              "              title=\"Convert this dataframe to an interactive table.\"\n",
              "              style=\"display:none;\">\n",
              "        \n",
              "  <svg xmlns=\"http://www.w3.org/2000/svg\" height=\"24px\"viewBox=\"0 0 24 24\"\n",
              "       width=\"24px\">\n",
              "    <path d=\"M0 0h24v24H0V0z\" fill=\"none\"/>\n",
              "    <path d=\"M18.56 5.44l.94 2.06.94-2.06 2.06-.94-2.06-.94-.94-2.06-.94 2.06-2.06.94zm-11 1L8.5 8.5l.94-2.06 2.06-.94-2.06-.94L8.5 2.5l-.94 2.06-2.06.94zm10 10l.94 2.06.94-2.06 2.06-.94-2.06-.94-.94-2.06-.94 2.06-2.06.94z\"/><path d=\"M17.41 7.96l-1.37-1.37c-.4-.4-.92-.59-1.43-.59-.52 0-1.04.2-1.43.59L10.3 9.45l-7.72 7.72c-.78.78-.78 2.05 0 2.83L4 21.41c.39.39.9.59 1.41.59.51 0 1.02-.2 1.41-.59l7.78-7.78 2.81-2.81c.8-.78.8-2.07 0-2.86zM5.41 20L4 18.59l7.72-7.72 1.47 1.35L5.41 20z\"/>\n",
              "  </svg>\n",
              "      </button>\n",
              "      \n",
              "  <style>\n",
              "    .colab-df-container {\n",
              "      display:flex;\n",
              "      flex-wrap:wrap;\n",
              "      gap: 12px;\n",
              "    }\n",
              "\n",
              "    .colab-df-convert {\n",
              "      background-color: #E8F0FE;\n",
              "      border: none;\n",
              "      border-radius: 50%;\n",
              "      cursor: pointer;\n",
              "      display: none;\n",
              "      fill: #1967D2;\n",
              "      height: 32px;\n",
              "      padding: 0 0 0 0;\n",
              "      width: 32px;\n",
              "    }\n",
              "\n",
              "    .colab-df-convert:hover {\n",
              "      background-color: #E2EBFA;\n",
              "      box-shadow: 0px 1px 2px rgba(60, 64, 67, 0.3), 0px 1px 3px 1px rgba(60, 64, 67, 0.15);\n",
              "      fill: #174EA6;\n",
              "    }\n",
              "\n",
              "    [theme=dark] .colab-df-convert {\n",
              "      background-color: #3B4455;\n",
              "      fill: #D2E3FC;\n",
              "    }\n",
              "\n",
              "    [theme=dark] .colab-df-convert:hover {\n",
              "      background-color: #434B5C;\n",
              "      box-shadow: 0px 1px 3px 1px rgba(0, 0, 0, 0.15);\n",
              "      filter: drop-shadow(0px 1px 2px rgba(0, 0, 0, 0.3));\n",
              "      fill: #FFFFFF;\n",
              "    }\n",
              "  </style>\n",
              "\n",
              "      <script>\n",
              "        const buttonEl =\n",
              "          document.querySelector('#df-5b4b638b-0699-49f6-8e05-5864bc0a05a3 button.colab-df-convert');\n",
              "        buttonEl.style.display =\n",
              "          google.colab.kernel.accessAllowed ? 'block' : 'none';\n",
              "\n",
              "        async function convertToInteractive(key) {\n",
              "          const element = document.querySelector('#df-5b4b638b-0699-49f6-8e05-5864bc0a05a3');\n",
              "          const dataTable =\n",
              "            await google.colab.kernel.invokeFunction('convertToInteractive',\n",
              "                                                     [key], {});\n",
              "          if (!dataTable) return;\n",
              "\n",
              "          const docLinkHtml = 'Like what you see? Visit the ' +\n",
              "            '<a target=\"_blank\" href=https://colab.research.google.com/notebooks/data_table.ipynb>data table notebook</a>'\n",
              "            + ' to learn more about interactive tables.';\n",
              "          element.innerHTML = '';\n",
              "          dataTable['output_type'] = 'display_data';\n",
              "          await google.colab.output.renderOutput(dataTable, element);\n",
              "          const docLink = document.createElement('div');\n",
              "          docLink.innerHTML = docLinkHtml;\n",
              "          element.appendChild(docLink);\n",
              "        }\n",
              "      </script>\n",
              "    </div>\n",
              "  </div>\n",
              "  "
            ]
          },
          "metadata": {},
          "execution_count": 10
        }
      ]
    },
    {
      "cell_type": "code",
      "source": [
        "cts=[]\n",
        "for i in range(7,301):\n",
        "   ct=0\n",
        "   for k in lst:\n",
        "     if k==i:\n",
        "       ct+=1\n",
        "   cts.append(ct)"
      ],
      "metadata": {
        "id": "JBAgUQh-1cCn",
        "trusted": true
      },
      "execution_count": 11,
      "outputs": []
    },
    {
      "cell_type": "markdown",
      "source": [
        "# Trying to fix a length for the embedding layers' input"
      ],
      "metadata": {
        "id": "dwTyJqGO4JM0"
      }
    },
    {
      "cell_type": "code",
      "source": [
        "plt.bar(range(7,301),cts)\n",
        "plt.show()"
      ],
      "metadata": {
        "id": "UOYkt05D2Pkc",
        "outputId": "ff8588f5-b17a-4557-a950-a116cc914c88",
        "trusted": true,
        "colab": {
          "base_uri": "https://localhost:8080/",
          "height": 266
        }
      },
      "execution_count": 12,
      "outputs": [
        {
          "output_type": "display_data",
          "data": {
            "text/plain": [
              "<Figure size 432x288 with 1 Axes>"
            ],
            "image/png": "[encoded data removed]"
          },
          "metadata": {
            "needs_background": "light"
          }
        }
      ]
    },
    {
      "cell_type": "markdown",
      "source": [
        "# Using The tokenizer Class to convert the sentences into word vectors"
      ],
      "metadata": {
        "id": "Vkx0Skhw4RTE"
      }
    },
    {
      "cell_type": "code",
      "source": [
        "tokenizer=Tokenizer(15212,lower=True,oov_token='UNK')\n",
        "tokenizer.fit_on_texts(X)"
      ],
      "metadata": {
        "id": "HPqJjmc2Qd1q",
        "trusted": true
      },
      "execution_count": 13,
      "outputs": []
    },
    {
      "cell_type": "code",
      "source": [
        "len(tokenizer.word_index)"
      ],
      "metadata": {
        "id": "QAR53xsMQ9hp",
        "outputId": "928b8ef7-627c-4456-80b6-1cf8eafba624",
        "trusted": true,
        "colab": {
          "base_uri": "https://localhost:8080/"
        }
      },
      "execution_count": 14,
      "outputs": [
        {
          "output_type": "execute_result",
          "data": {
            "text/plain": [
              "15213"
            ]
          },
          "metadata": {},
          "execution_count": 14
        }
      ]
    },
    {
      "cell_type": "code",
      "source": [
        "X_train=tokenizer.texts_to_sequences(X)\n",
        "X_train_pad=pad_sequences(X_train,maxlen=80,padding='post')"
      ],
      "metadata": {
        "id": "OPlKIuEJRHaJ",
        "trusted": true
      },
      "execution_count": 15,
      "outputs": []
    },
    {
      "cell_type": "code",
      "source": [
        "df_train['Sentiment']=df_train.Sentiment.replace({'joy':0,'anger':1,'love':2,'sadness':3,'fear':4,'surprise':5})"
      ],
      "metadata": {
        "id": "klWThk5xSiTj",
        "trusted": true
      },
      "execution_count": 16,
      "outputs": []
    },
    {
      "cell_type": "code",
      "source": [
        "Y_train=df_train['Sentiment'].values\n"
      ],
      "metadata": {
        "id": "IcB2LdpDTV1R",
        "trusted": true
      },
      "execution_count": 17,
      "outputs": []
    },
    {
      "cell_type": "markdown",
      "source": [
        "# One hot Encoding the Emotion Values"
      ],
      "metadata": {
        "id": "1Nxr63i-4eWH"
      }
    },
    {
      "cell_type": "code",
      "source": [
        "Y_train_f=to_categorical(Y_train)"
      ],
      "metadata": {
        "id": "Cq4bajBpWKnU",
        "trusted": true
      },
      "execution_count": 18,
      "outputs": []
    },
    {
      "cell_type": "code",
      "source": [
        "Y_train_f[:6]"
      ],
      "metadata": {
        "id": "jM-qVgjjXHlb",
        "outputId": "6998f5bf-9f18-4fd5-94a2-177231a694cb",
        "trusted": true,
        "colab": {
          "base_uri": "https://localhost:8080/"
        }
      },
      "execution_count": 19,
      "outputs": [
        {
          "output_type": "execute_result",
          "data": {
            "text/plain": [
              "array([[0., 0., 0., 1., 0., 0.],\n",
              "       [0., 0., 0., 1., 0., 0.],\n",
              "       [0., 1., 0., 0., 0., 0.],\n",
              "       [0., 0., 1., 0., 0., 0.],\n",
              "       [0., 1., 0., 0., 0., 0.],\n",
              "       [0., 0., 0., 1., 0., 0.]], dtype=float32)"
            ]
          },
          "metadata": {},
          "execution_count": 19
        }
      ]
    },
    {
      "cell_type": "code",
      "source": [
        "X_val=df_val['Input']\n",
        "Y_val=df_val.Sentiment.replace({'joy':0,'anger':1,'love':2,'sadness':3,'fear':4,'surprise':5})"
      ],
      "metadata": {
        "id": "PKJwSxEgYhay",
        "trusted": true
      },
      "execution_count": 20,
      "outputs": []
    },
    {
      "cell_type": "code",
      "source": [
        "X_val_f=tokenizer.texts_to_sequences(X_val)\n",
        "X_val_pad=pad_sequences(X_val_f,maxlen=80,padding='post')"
      ],
      "metadata": {
        "id": "v-5tPraZYYH6",
        "trusted": true
      },
      "execution_count": 21,
      "outputs": []
    },
    {
      "cell_type": "code",
      "source": [
        "Y_val_f=to_categorical(Y_val)"
      ],
      "metadata": {
        "id": "rLIVsrvgZLu_",
        "trusted": true
      },
      "execution_count": 22,
      "outputs": []
    },
    {
      "cell_type": "code",
      "source": [
        "Y_val_f[:6]"
      ],
      "metadata": {
        "id": "zKw08DYYZLxl",
        "outputId": "2e54ea74-1101-4648-d7ed-bf216e0d22e1",
        "trusted": true,
        "colab": {
          "base_uri": "https://localhost:8080/"
        }
      },
      "execution_count": 23,
      "outputs": [
        {
          "output_type": "execute_result",
          "data": {
            "text/plain": [
              "array([[0., 0., 0., 1., 0., 0.],\n",
              "       [0., 0., 0., 1., 0., 0.],\n",
              "       [0., 0., 1., 0., 0., 0.],\n",
              "       [0., 1., 0., 0., 0., 0.],\n",
              "       [1., 0., 0., 0., 0., 0.],\n",
              "       [1., 0., 0., 0., 0., 0.]], dtype=float32)"
            ]
          },
          "metadata": {},
          "execution_count": 23
        }
      ]
    },
    {
      "cell_type": "code",
      "source": [
        "from keras.models import Sequential\n",
        "from keras.layers import LSTM,Bidirectional,Dense,Embedding,Dropout\n"
      ],
      "metadata": {
        "id": "fTW2fLQZU8rx",
        "trusted": true
      },
      "execution_count": 24,
      "outputs": []
    },
    {
      "cell_type": "markdown",
      "source": [
        "# Creating a Model"
      ],
      "metadata": {
        "id": "zzZgSic_4mb8"
      }
    },
    {
      "cell_type": "code",
      "source": [
        "model=Sequential()\n",
        "model.add(Embedding(15212,64,input_length=80))\n",
        "model.add(Dropout(0.6))\n",
        "model.add(Bidirectional(LSTM(80,return_sequences=True)))\n",
        "model.add(Bidirectional(LSTM(160)))\n",
        "model.add(Dense(6,activation='softmax'))\n",
        "print(model.summary())"
      ],
      "metadata": {
        "id": "F_tdJHIDVLqA",
        "outputId": "0f621f70-4dc6-4ab5-8bee-12a10233fc8a",
        "trusted": true,
        "colab": {
          "base_uri": "https://localhost:8080/"
        }
      },
      "execution_count": 25,
      "outputs": [
        {
          "output_type": "stream",
          "name": "stdout",
          "text": [
            "Model: \"sequential\"\n",
            "_________________________________________________________________\n",
            " Layer (type)                Output Shape              Param #   \n",
            "=================================================================\n",
            " embedding (Embedding)       (None, 80, 64)            973568    \n",
            "                                                                 \n",
            " dropout (Dropout)           (None, 80, 64)            0         \n",
            "                                                                 \n",
            " bidirectional (Bidirectiona  (None, 80, 160)          92800     \n",
            " l)                                                              \n",
            "                                                                 \n",
            " bidirectional_1 (Bidirectio  (None, 320)              410880    \n",
            " nal)                                                            \n",
            "                                                                 \n",
            " dense (Dense)               (None, 6)                 1926      \n",
            "                                                                 \n",
            "=================================================================\n",
            "Total params: 1,479,174\n",
            "Trainable params: 1,479,174\n",
            "Non-trainable params: 0\n",
            "_________________________________________________________________\n",
            "None\n"
          ]
        }
      ]
    },
    {
      "cell_type": "markdown",
      "source": [
        "# Compiling and running the model"
      ],
      "metadata": {
        "id": "lQwbhHiO4rM7"
      }
    },
    {
      "cell_type": "code",
      "source": [
        "model.compile(optimizer='adam',loss='categorical_crossentropy',metrics=['accuracy'])"
      ],
      "metadata": {
        "id": "_KYfMEyXVxK2",
        "trusted": true
      },
      "execution_count": 26,
      "outputs": []
    },
    {
      "cell_type": "code",
      "source": [
        "hist=model.fit(X_train_pad,Y_train_f,epochs=12,validation_data=(X_val_pad,Y_val_f))"
      ],
      "metadata": {
        "id": "J5UxHV4EV_qA",
        "outputId": "b2a83a52-c64e-4eea-a9aa-77599d05a9f4",
        "trusted": true,
        "colab": {
          "base_uri": "https://localhost:8080/"
        }
      },
      "execution_count": 27,
      "outputs": [
        {
          "output_type": "stream",
          "name": "stdout",
          "text": [
            "Epoch 1/12\n",
            "500/500 [==============================] - 236s 461ms/step - loss: 1.2111 - accuracy: 0.5167 - val_loss: 0.6195 - val_accuracy: 0.7625\n",
            "Epoch 2/12\n",
            "500/500 [==============================] - 223s 446ms/step - loss: 0.4894 - accuracy: 0.8252 - val_loss: 0.3186 - val_accuracy: 0.8865\n",
            "Epoch 3/12\n",
            "500/500 [==============================] - 229s 457ms/step - loss: 0.2766 - accuracy: 0.9059 - val_loss: 0.2255 - val_accuracy: 0.9190\n",
            "Epoch 4/12\n",
            "500/500 [==============================] - 231s 463ms/step - loss: 0.1945 - accuracy: 0.9299 - val_loss: 0.2066 - val_accuracy: 0.9230\n",
            "Epoch 5/12\n",
            "500/500 [==============================] - 230s 459ms/step - loss: 0.1561 - accuracy: 0.9409 - val_loss: 0.1866 - val_accuracy: 0.9240\n",
            "Epoch 6/12\n",
            "500/500 [==============================] - 229s 457ms/step - loss: 0.1224 - accuracy: 0.9541 - val_loss: 0.1790 - val_accuracy: 0.9240\n",
            "Epoch 7/12\n",
            "500/500 [==============================] - 232s 463ms/step - loss: 0.1003 - accuracy: 0.9607 - val_loss: 0.1940 - val_accuracy: 0.9235\n",
            "Epoch 8/12\n",
            "500/500 [==============================] - 230s 460ms/step - loss: 0.0907 - accuracy: 0.9651 - val_loss: 0.2067 - val_accuracy: 0.9260\n",
            "Epoch 9/12\n",
            "500/500 [==============================] - 229s 458ms/step - loss: 0.0767 - accuracy: 0.9708 - val_loss: 0.1957 - val_accuracy: 0.9275\n",
            "Epoch 10/12\n",
            "500/500 [==============================] - 229s 459ms/step - loss: 0.0745 - accuracy: 0.9707 - val_loss: 0.1744 - val_accuracy: 0.9340\n",
            "Epoch 11/12\n",
            "500/500 [==============================] - 232s 464ms/step - loss: 0.0701 - accuracy: 0.9718 - val_loss: 0.1883 - val_accuracy: 0.9315\n",
            "Epoch 12/12\n",
            "500/500 [==============================] - 229s 457ms/step - loss: 0.0582 - accuracy: 0.9772 - val_loss: 0.2051 - val_accuracy: 0.9295\n"
          ]
        }
      ]
    },
    {
      "cell_type": "markdown",
      "source": [
        "# Plotting the Loss and Accuracy Curves"
      ],
      "metadata": {
        "id": "uD6VxGqMzbKQ"
      }
    },
    {
      "cell_type": "code",
      "source": [
        "plt.plot(hist.history['accuracy'],c='b',label='train')\n",
        "plt.plot(hist.history['val_accuracy'],c='r',label='validation')\n",
        "plt.legend(loc='lower right')\n",
        "plt.show()"
      ],
      "metadata": {
        "id": "r9ZX9npB95PY",
        "outputId": "7e06ca12-2dc2-4d9a-aebf-e6246a6919a5",
        "trusted": true,
        "colab": {
          "base_uri": "https://localhost:8080/",
          "height": 269
        }
      },
      "execution_count": 28,
      "outputs": [
        {
          "output_type": "display_data",
          "data": {
            "text/plain": [
              "<Figure size 432x288 with 1 Axes>"
            ],
            "image/png": "[encoded data removed]"
          },
          "metadata": {
            "needs_background": "light"
          }
        }
      ]
    },
    {
      "cell_type": "code",
      "source": [
        "plt.plot(hist.history['loss'],c='orange',label='train')\n",
        "plt.plot(hist.history['val_loss'],c='g',label='validation')\n",
        "plt.legend(loc='upper right')\n",
        "plt.show()"
      ],
      "metadata": {
        "id": "DPXjVCJe-dLM",
        "outputId": "65ba73c2-51c8-4fab-aff5-40a4278064bf",
        "trusted": true,
        "colab": {
          "base_uri": "https://localhost:8080/",
          "height": 265
        }
      },
      "execution_count": 29,
      "outputs": [
        {
          "output_type": "display_data",
          "data": {
            "text/plain": [
              "<Figure size 432x288 with 1 Axes>"
            ],
            "image/png": "[encoded data removed]"
          },
          "metadata": {
            "needs_background": "light"
          }
        }
      ]
    },
    {
      "cell_type": "markdown",
      "source": [
        "# Checking for Test Data"
      ],
      "metadata": {
        "id": "T8wkWWRM4wj5"
      }
    },
    {
      "cell_type": "code",
      "source": [
        "X_test=df_test['Input']\n",
        "Y_test=df_test.Sentiment.replace({'joy':0,'anger':1,'love':2,'sadness':3,'fear':4,'surprise':5})"
      ],
      "metadata": {
        "id": "qiqCoFvpWFlI",
        "trusted": true
      },
      "execution_count": 30,
      "outputs": []
    },
    {
      "cell_type": "code",
      "source": [
        "X_test_f=tokenizer.texts_to_sequences(X_test)\n",
        "X_test_pad=pad_sequences(X_test_f,maxlen=80,padding='post')"
      ],
      "metadata": {
        "id": "a_puRzZNaI_i",
        "trusted": true
      },
      "execution_count": 31,
      "outputs": []
    },
    {
      "cell_type": "code",
      "source": [
        "Y_test_f=to_categorical(Y_test)"
      ],
      "metadata": {
        "id": "ZWeCFXqBaUeF",
        "trusted": true
      },
      "execution_count": 32,
      "outputs": []
    },
    {
      "cell_type": "code",
      "source": [
        "X_test_pad.shape"
      ],
      "metadata": {
        "id": "iVhdSBnWcV3q",
        "outputId": "282d441f-f17f-443d-b3a3-cc93e78ad6a5",
        "trusted": true,
        "colab": {
          "base_uri": "https://localhost:8080/"
        }
      },
      "execution_count": 33,
      "outputs": [
        {
          "output_type": "execute_result",
          "data": {
            "text/plain": [
              "(2000, 80)"
            ]
          },
          "metadata": {},
          "execution_count": 33
        }
      ]
    },
    {
      "cell_type": "code",
      "source": [
        "Y_test_f[:7]"
      ],
      "metadata": {
        "id": "K2gXQ80oaaok",
        "outputId": "b8f06f4f-f843-4990-f457-2d4b82336680",
        "trusted": true,
        "colab": {
          "base_uri": "https://localhost:8080/"
        }
      },
      "execution_count": 34,
      "outputs": [
        {
          "output_type": "execute_result",
          "data": {
            "text/plain": [
              "array([[0., 0., 0., 1., 0., 0.],\n",
              "       [0., 0., 0., 1., 0., 0.],\n",
              "       [0., 0., 0., 1., 0., 0.],\n",
              "       [1., 0., 0., 0., 0., 0.],\n",
              "       [0., 0., 0., 1., 0., 0.],\n",
              "       [0., 0., 0., 0., 1., 0.],\n",
              "       [0., 1., 0., 0., 0., 0.]], dtype=float32)"
            ]
          },
          "metadata": {},
          "execution_count": 34
        }
      ]
    },
    {
      "cell_type": "markdown",
      "source": [
        "#Accuracy for Test Data"
      ],
      "metadata": {
        "id": "KI2H_6jh444s"
      }
    },
    {
      "cell_type": "code",
      "source": [
        "model.evaluate(X_test_pad,Y_test_f)"
      ],
      "metadata": {
        "id": "PWY-3GJSacff",
        "outputId": "d60c6add-4a3b-4199-afe3-bf1e19a548a2",
        "trusted": true,
        "colab": {
          "base_uri": "https://localhost:8080/"
        }
      },
      "execution_count": 35,
      "outputs": [
        {
          "output_type": "stream",
          "name": "stdout",
          "text": [
            "63/63 [==============================] - 9s 136ms/step - loss: 0.2039 - accuracy: 0.9240\n"
          ]
        },
        {
          "output_type": "execute_result",
          "data": {
            "text/plain": [
              "[0.20391203463077545, 0.9240000247955322]"
            ]
          },
          "metadata": {},
          "execution_count": 35
        }
      ]
    },
    {
      "cell_type": "markdown",
      "source": [
        "# Plotting the Confusion matrix "
      ],
      "metadata": {
        "id": "eDUBbS9dCnqc"
      }
    },
    {
      "cell_type": "code",
      "source": [
        "#Y_pred=model.predict_classes(X_test_pad)\n",
        "Y_pred=np.argmax(model.predict(X_test_pad), axis=-1)"
      ],
      "metadata": {
        "id": "xSBIEISGA6Id",
        "trusted": true
      },
      "execution_count": 49,
      "outputs": []
    },
    {
      "cell_type": "code",
      "source": [
        "plot_confusion_matrix(Y_test,Y_pred)"
      ],
      "metadata": {
        "id": "atULoe4HAqZv",
        "outputId": "f3899622-6860-407d-a7e7-aa8cdd64b1d6",
        "trusted": true,
        "colab": {
          "base_uri": "https://localhost:8080/",
          "height": 313
        }
      },
      "execution_count": 50,
      "outputs": [
        {
          "output_type": "execute_result",
          "data": {
            "text/plain": [
              "<matplotlib.axes._subplots.AxesSubplot at 0x7fcb3d6d2790>"
            ]
          },
          "metadata": {},
          "execution_count": 50
        },
        {
          "output_type": "display_data",
          "data": {
            "text/plain": [
              "<Figure size 432x288 with 2 Axes>"
            ],
            "image/png": "[encoded data removed]"
          },
          "metadata": {
            "needs_background": "light"
          }
        }
      ]
    },
    {
      "cell_type": "code",
      "source": [
        "print(classification_report(Y_test,Y_pred))"
      ],
      "metadata": {
        "id": "GebauRAfChiq",
        "outputId": "124155b0-4b3f-4422-e213-d788ac9abffb",
        "trusted": true,
        "colab": {
          "base_uri": "https://localhost:8080/"
        }
      },
      "execution_count": 51,
      "outputs": [
        {
          "output_type": "stream",
          "name": "stdout",
          "text": [
            "              precision    recall  f1-score   support\n",
            "\n",
            "           0       0.97      0.92      0.94       695\n",
            "           1       0.90      0.92      0.91       275\n",
            "           2       0.77      0.87      0.82       159\n",
            "           3       0.96      0.97      0.96       581\n",
            "           4       0.87      0.94      0.91       224\n",
            "           5       0.88      0.67      0.76        66\n",
            "\n",
            "    accuracy                           0.92      2000\n",
            "   macro avg       0.89      0.88      0.88      2000\n",
            "weighted avg       0.93      0.92      0.92      2000\n",
            "\n"
          ]
        }
      ]
    },
    {
      "cell_type": "markdown",
      "source": [
        "# Creating a Function to check for Your own Sentence"
      ],
      "metadata": {
        "id": "5SG8AtHq48uQ"
      }
    },
    {
      "cell_type": "code",
      "source": [
        "def get_key(value):\n",
        "    dictionary={'joy':0,'anger':1,'love':2,'sadness':3,'fear':4,'surprise':5}\n",
        "    for key,val in dictionary.items():\n",
        "          if (val==value):\n",
        "            return key\n",
        "\n"
      ],
      "metadata": {
        "id": "N4vDT3Eeft2i",
        "trusted": true
      },
      "execution_count": 52,
      "outputs": []
    },
    {
      "cell_type": "code",
      "source": [
        "def predict(sentence):\n",
        "  sentence_lst=[]\n",
        "  sentence_lst.append(sentence)\n",
        "  sentence_seq=tokenizer.texts_to_sequences(sentence_lst)\n",
        "  sentence_padded=pad_sequences(sentence_seq,maxlen=80,padding='post')\n",
        "  #ans=get_key(model.predict_classes(sentence_padded))\n",
        "  ans=get_key(np.argmax(model.predict(sentence_padded), axis=-1))\n",
        "  print(\"The emotion predicted is\",ans)"
      ],
      "metadata": {
        "id": "AQuJATahalLP",
        "trusted": true
      },
      "execution_count": 55,
      "outputs": []
    },
    {
      "cell_type": "markdown",
      "source": [
        "# Check for Your Own Sentence"
      ],
      "metadata": {
        "id": "J1_JYp1N5CFm"
      }
    },
    {
      "cell_type": "code",
      "source": [
        "predict(str(input('Enter a sentence : ')))\n"
      ],
      "metadata": {
        "id": "VcTTjsficgqf",
        "outputId": "6ac4c052-3ba6-49b6-8d9c-ebef86263d17",
        "trusted": true,
        "colab": {
          "base_uri": "https://localhost:8080/"
        }
      },
      "execution_count": 56,
      "outputs": [
        {
          "output_type": "stream",
          "name": "stdout",
          "text": [
            "Enter a sentence : I am happy today with sad mood\n",
            "The emotion predicted is joy\n"
          ]
        }
      ]
    },
    {
      "cell_type": "code",
      "source": [
        "predict(str(input('Enter a sentence : ')))\n"
      ],
      "metadata": {
        "id": "_hiYzFqN_h_-",
        "outputId": "e8793d64-d556-4e4d-e35b-97803dc01831",
        "trusted": true,
        "colab": {
          "base_uri": "https://localhost:8080/"
        }
      },
      "execution_count": 57,
      "outputs": [
        {
          "output_type": "stream",
          "name": "stdout",
          "text": [
            "Enter a sentence : fuck you piece of shit\n",
            "The emotion predicted is anger\n"
          ]
        }
      ]
    },
    {
      "cell_type": "code",
      "source": [
        "predict(str(input('Enter a sentence : ')))\n"
      ],
      "metadata": {
        "trusted": true,
        "colab": {
          "base_uri": "https://localhost:8080/"
        },
        "id": "k28J48C4zbKS",
        "outputId": "7815ea1b-ec0b-47ff-c7b8-a6c1f12f12fa"
      },
      "execution_count": 58,
      "outputs": [
        {
          "output_type": "stream",
          "name": "stdout",
          "text": [
            "Enter a sentence : lol kid\n",
            "The emotion predicted is sadness\n"
          ]
        }
      ]
    },
    {
      "cell_type": "code",
      "source": [
        "predict(str(input('Enter a sentence : ')))"
      ],
      "metadata": {
        "colab": {
          "base_uri": "https://localhost:8080/"
        },
        "id": "eHDnBDJQEZCh",
        "outputId": "e5bda3d1-1c9d-487b-b452-7a597006091f"
      },
      "execution_count": 63,
      "outputs": [
        {
          "output_type": "stream",
          "name": "stdout",
          "text": [
            "Enter a sentence : That one specific BUET er bhaia demographic be like \"major: engineering; passion: minors\"\n",
            "The emotion predicted is love\n"
          ]
        }
      ]
    }
  ]
}